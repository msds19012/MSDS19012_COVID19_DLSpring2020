{
  "nbformat": 4,
  "nbformat_minor": 0,
  "metadata": {
    "colab": {
      "name": "MSDS19012_05.ipynb",
      "provenance": [],
      "collapsed_sections": []
    },
    "kernelspec": {
      "name": "python3",
      "display_name": "Python 3"
    },
    "accelerator": "GPU",
    "widgets": {
      "application/vnd.jupyter.widget-state+json": {
        "926bc8eb1cce4b8fa7912d8d599825b8": {
          "model_module": "@jupyter-widgets/controls",
          "model_name": "HBoxModel",
          "state": {
            "_view_name": "HBoxView",
            "_dom_classes": [],
            "_model_name": "HBoxModel",
            "_view_module": "@jupyter-widgets/controls",
            "_model_module_version": "1.5.0",
            "_view_count": null,
            "_view_module_version": "1.5.0",
            "box_style": "",
            "layout": "IPY_MODEL_03322d3f2029408d93028ef7eafb5228",
            "_model_module": "@jupyter-widgets/controls",
            "children": [
              "IPY_MODEL_a4945ebfa86040119671904f4df66584",
              "IPY_MODEL_70f1399d6ce44ce09b2640d113f14b11"
            ]
          }
        },
        "03322d3f2029408d93028ef7eafb5228": {
          "model_module": "@jupyter-widgets/base",
          "model_name": "LayoutModel",
          "state": {
            "_view_name": "LayoutView",
            "grid_template_rows": null,
            "right": null,
            "justify_content": null,
            "_view_module": "@jupyter-widgets/base",
            "overflow": null,
            "_model_module_version": "1.2.0",
            "_view_count": null,
            "flex_flow": null,
            "width": null,
            "min_width": null,
            "border": null,
            "align_items": null,
            "bottom": null,
            "_model_module": "@jupyter-widgets/base",
            "top": null,
            "grid_column": null,
            "overflow_y": null,
            "overflow_x": null,
            "grid_auto_flow": null,
            "grid_area": null,
            "grid_template_columns": null,
            "flex": null,
            "_model_name": "LayoutModel",
            "justify_items": null,
            "grid_row": null,
            "max_height": null,
            "align_content": null,
            "visibility": null,
            "align_self": null,
            "height": null,
            "min_height": null,
            "padding": null,
            "grid_auto_rows": null,
            "grid_gap": null,
            "max_width": null,
            "order": null,
            "_view_module_version": "1.2.0",
            "grid_template_areas": null,
            "object_position": null,
            "object_fit": null,
            "grid_auto_columns": null,
            "margin": null,
            "display": null,
            "left": null
          }
        },
        "a4945ebfa86040119671904f4df66584": {
          "model_module": "@jupyter-widgets/controls",
          "model_name": "IntProgressModel",
          "state": {
            "_view_name": "ProgressView",
            "style": "IPY_MODEL_b5012c1c5e4a45eeb9064175b7c3947e",
            "_dom_classes": [],
            "description": "100%",
            "_model_name": "IntProgressModel",
            "bar_style": "success",
            "max": 46827520,
            "_view_module": "@jupyter-widgets/controls",
            "_model_module_version": "1.5.0",
            "value": 46827520,
            "_view_count": null,
            "_view_module_version": "1.5.0",
            "orientation": "horizontal",
            "min": 0,
            "description_tooltip": null,
            "_model_module": "@jupyter-widgets/controls",
            "layout": "IPY_MODEL_e6aeb08ede694ccc8e44f08c5dca5ba5"
          }
        },
        "70f1399d6ce44ce09b2640d113f14b11": {
          "model_module": "@jupyter-widgets/controls",
          "model_name": "HTMLModel",
          "state": {
            "_view_name": "HTMLView",
            "style": "IPY_MODEL_b67f6d603afd457f85ab64e5e33b1b6b",
            "_dom_classes": [],
            "description": "",
            "_model_name": "HTMLModel",
            "placeholder": "​",
            "_view_module": "@jupyter-widgets/controls",
            "_model_module_version": "1.5.0",
            "value": " 44.7M/44.7M [00:00&lt;00:00, 99.5MB/s]",
            "_view_count": null,
            "_view_module_version": "1.5.0",
            "description_tooltip": null,
            "_model_module": "@jupyter-widgets/controls",
            "layout": "IPY_MODEL_791ab8df2a1b4cff84ef1638f2d192c5"
          }
        },
        "b5012c1c5e4a45eeb9064175b7c3947e": {
          "model_module": "@jupyter-widgets/controls",
          "model_name": "ProgressStyleModel",
          "state": {
            "_view_name": "StyleView",
            "_model_name": "ProgressStyleModel",
            "description_width": "initial",
            "_view_module": "@jupyter-widgets/base",
            "_model_module_version": "1.5.0",
            "_view_count": null,
            "_view_module_version": "1.2.0",
            "bar_color": null,
            "_model_module": "@jupyter-widgets/controls"
          }
        },
        "e6aeb08ede694ccc8e44f08c5dca5ba5": {
          "model_module": "@jupyter-widgets/base",
          "model_name": "LayoutModel",
          "state": {
            "_view_name": "LayoutView",
            "grid_template_rows": null,
            "right": null,
            "justify_content": null,
            "_view_module": "@jupyter-widgets/base",
            "overflow": null,
            "_model_module_version": "1.2.0",
            "_view_count": null,
            "flex_flow": null,
            "width": null,
            "min_width": null,
            "border": null,
            "align_items": null,
            "bottom": null,
            "_model_module": "@jupyter-widgets/base",
            "top": null,
            "grid_column": null,
            "overflow_y": null,
            "overflow_x": null,
            "grid_auto_flow": null,
            "grid_area": null,
            "grid_template_columns": null,
            "flex": null,
            "_model_name": "LayoutModel",
            "justify_items": null,
            "grid_row": null,
            "max_height": null,
            "align_content": null,
            "visibility": null,
            "align_self": null,
            "height": null,
            "min_height": null,
            "padding": null,
            "grid_auto_rows": null,
            "grid_gap": null,
            "max_width": null,
            "order": null,
            "_view_module_version": "1.2.0",
            "grid_template_areas": null,
            "object_position": null,
            "object_fit": null,
            "grid_auto_columns": null,
            "margin": null,
            "display": null,
            "left": null
          }
        },
        "b67f6d603afd457f85ab64e5e33b1b6b": {
          "model_module": "@jupyter-widgets/controls",
          "model_name": "DescriptionStyleModel",
          "state": {
            "_view_name": "StyleView",
            "_model_name": "DescriptionStyleModel",
            "description_width": "",
            "_view_module": "@jupyter-widgets/base",
            "_model_module_version": "1.5.0",
            "_view_count": null,
            "_view_module_version": "1.2.0",
            "_model_module": "@jupyter-widgets/controls"
          }
        },
        "791ab8df2a1b4cff84ef1638f2d192c5": {
          "model_module": "@jupyter-widgets/base",
          "model_name": "LayoutModel",
          "state": {
            "_view_name": "LayoutView",
            "grid_template_rows": null,
            "right": null,
            "justify_content": null,
            "_view_module": "@jupyter-widgets/base",
            "overflow": null,
            "_model_module_version": "1.2.0",
            "_view_count": null,
            "flex_flow": null,
            "width": null,
            "min_width": null,
            "border": null,
            "align_items": null,
            "bottom": null,
            "_model_module": "@jupyter-widgets/base",
            "top": null,
            "grid_column": null,
            "overflow_y": null,
            "overflow_x": null,
            "grid_auto_flow": null,
            "grid_area": null,
            "grid_template_columns": null,
            "flex": null,
            "_model_name": "LayoutModel",
            "justify_items": null,
            "grid_row": null,
            "max_height": null,
            "align_content": null,
            "visibility": null,
            "align_self": null,
            "height": null,
            "min_height": null,
            "padding": null,
            "grid_auto_rows": null,
            "grid_gap": null,
            "max_width": null,
            "order": null,
            "_view_module_version": "1.2.0",
            "grid_template_areas": null,
            "object_position": null,
            "object_fit": null,
            "grid_auto_columns": null,
            "margin": null,
            "display": null,
            "left": null
          }
        }
      }
    }
  },
  "cells": [
    {
      "cell_type": "markdown",
      "metadata": {
        "id": "C_t-dxBGEecz",
        "colab_type": "text"
      },
      "source": [
        "# Assignment 5"
      ]
    },
    {
      "cell_type": "markdown",
      "metadata": {
        "id": "vtKyFQVDgVsX",
        "colab_type": "text"
      },
      "source": [
        "# Task 1"
      ]
    },
    {
      "cell_type": "code",
      "metadata": {
        "id": "CfI34Qaz3FTP",
        "colab_type": "code",
        "colab": {}
      },
      "source": [
        "import torch\n",
        "import torch.nn as nn\n",
        "import torch.optim as optim\n",
        "from torch.optim import lr_scheduler\n",
        "from torch.autograd import Variable\n",
        "import numpy as np\n",
        "import torchvision\n",
        "from torchvision import datasets, models, transforms\n",
        "import matplotlib.pyplot as plt\n",
        "from sklearn.metrics import confusion_matrix\n",
        "import time\n",
        "import os\n",
        "import copy"
      ],
      "execution_count": 0,
      "outputs": []
    },
    {
      "cell_type": "markdown",
      "metadata": {
        "id": "_fHtxac_gaX4",
        "colab_type": "text"
      },
      "source": [
        "# Import data from Google Drive"
      ]
    },
    {
      "cell_type": "code",
      "metadata": {
        "id": "4kTi212ZElFB",
        "colab_type": "code",
        "outputId": "9293df57-deab-4dfe-d67c-94e83b1a5571",
        "colab": {
          "base_uri": "https://localhost:8080/",
          "height": 127
        }
      },
      "source": [
        "from google.colab import drive\n",
        "drive.mount(\"/content/drive\")\n",
        "data_dir = '/content/drive/My Drive/Colab Notebooks/Assignment 5/Assignment 5 Dataset'"
      ],
      "execution_count": 0,
      "outputs": [
        {
          "output_type": "stream",
          "text": [
            "Go to this URL in a browser: https://accounts.google.com/o/oauth2/auth?client_id=947318989803-6bn6qk8qdgf4n4g3pfee6491hc0brc4i.apps.googleusercontent.com&redirect_uri=urn%3aietf%3awg%3aoauth%3a2.0%3aoob&response_type=code&scope=email%20https%3a%2f%2fwww.googleapis.com%2fauth%2fdocs.test%20https%3a%2f%2fwww.googleapis.com%2fauth%2fdrive%20https%3a%2f%2fwww.googleapis.com%2fauth%2fdrive.photos.readonly%20https%3a%2f%2fwww.googleapis.com%2fauth%2fpeopleapi.readonly\n",
            "\n",
            "Enter your authorization code:\n",
            "··········\n",
            "Mounted at /content/drive\n"
          ],
          "name": "stdout"
        }
      ]
    },
    {
      "cell_type": "code",
      "metadata": {
        "id": "GOvO5pFGFQN-",
        "colab_type": "code",
        "outputId": "e9bf3771-0f83-4d5a-af12-b1542d627400",
        "colab": {
          "base_uri": "https://localhost:8080/",
          "height": 53
        }
      },
      "source": [
        "#Define transforms for the training data and testing data\n",
        "train_transforms = transforms.Compose([transforms.RandomRotation(30),\n",
        "                                       transforms.Resize((224,224)),\n",
        "                                       transforms.RandomHorizontalFlip(),\n",
        "                                       transforms.ToTensor(),\n",
        "                                       transforms.Normalize([0.485, 0.456, 0.406],\n",
        "                                                            [0.229, 0.224, 0.225])])\n",
        "\n",
        "val_transforms = transforms.Compose([transforms.Resize((224,224)),\n",
        "                                      transforms.ToTensor(),\n",
        "                                      transforms.Normalize([0.485, 0.456, 0.406],\n",
        "                                                           [0.229, 0.224, 0.225])])\n",
        "\n",
        "test_transforms = transforms.Compose([transforms.Resize((224,224)),\n",
        "                                      transforms.ToTensor(),\n",
        "                                      transforms.Normalize([0.485, 0.456, 0.406],\n",
        "                                                           [0.229, 0.224, 0.225])])\n",
        "\n",
        "#pass transform here-in\n",
        "train_data = datasets.ImageFolder(data_dir + '/train', transform=train_transforms)\n",
        "val_data = datasets.ImageFolder(data_dir + '/validation', transform=val_transforms)\n",
        "test_data = datasets.ImageFolder(data_dir + '/test', transform=test_transforms)\n",
        "\n",
        "#data loaders\n",
        "trainloader = torch.utils.data.DataLoader(train_data, batch_size=32, shuffle=True)\n",
        "valloader = torch.utils.data.DataLoader(val_data, batch_size=32, shuffle=True)\n",
        "testloader = torch.utils.data.DataLoader(test_data, batch_size=32, shuffle=True)\n",
        "\n",
        "print(\"Classes: \")\n",
        "class_names = train_data.classes\n",
        "print(class_names)"
      ],
      "execution_count": 0,
      "outputs": [
        {
          "output_type": "stream",
          "text": [
            "Classes: \n",
            "['infected', 'normal']\n"
          ],
          "name": "stdout"
        }
      ]
    },
    {
      "cell_type": "markdown",
      "metadata": {
        "id": "ClFAjkV6giLt",
        "colab_type": "text"
      },
      "source": [
        "# Display a batch from test data"
      ]
    },
    {
      "cell_type": "code",
      "metadata": {
        "id": "_xLgJI-YMBlT",
        "colab_type": "code",
        "outputId": "245040b9-54e2-4b88-bbbd-c9f620281d76",
        "colab": {
          "base_uri": "https://localhost:8080/",
          "height": 275
        }
      },
      "source": [
        "# functions to show an image\n",
        "def imshow(img):\n",
        "    img = img * 0.22 + 0.45     # unnormalize\n",
        "    npimg = img.numpy()\n",
        "    plt.imshow(np.transpose(npimg, (1, 2, 0)))\n",
        "    plt.show()\n",
        "\n",
        "# get some random training images\n",
        "dataiter = iter(testloader)\n",
        "images, labels = dataiter.next()\n",
        "\n",
        "# show images\n",
        "imshow(torchvision.utils.make_grid(images))\n",
        "# print labels\n",
        "print(' '.join('%5s' % class_names[labels[j]] for j in range(len(images))))"
      ],
      "execution_count": 0,
      "outputs": [
        {
          "output_type": "stream",
          "text": [
            "Clipping input data to the valid range for imshow with RGB data ([0..1] for floats or [0..255] for integers).\n"
          ],
          "name": "stderr"
        },
        {
          "output_type": "display_data",
          "data": {
            "image/png": "[encoded data removed]",
            "text/plain": [
              "<Figure size 432x288 with 1 Axes>"
            ]
          },
          "metadata": {
            "tags": [],
            "needs_background": "light"
          }
        },
        {
          "output_type": "stream",
          "text": [
            "infected normal infected normal normal normal normal normal normal infected normal normal normal normal infected infected infected normal infected normal normal normal infected infected infected infected infected normal infected normal normal normal\n"
          ],
          "name": "stdout"
        }
      ]
    },
    {
      "cell_type": "markdown",
      "metadata": {
        "id": "AuGW7xkDgo8r",
        "colab_type": "text"
      },
      "source": [
        "# Load pre-trained VGG16 model and replace the FC layers"
      ]
    },
    {
      "cell_type": "code",
      "metadata": {
        "id": "abRN3y9UNPxX",
        "colab_type": "code",
        "outputId": "adff5517-5c3c-479e-e1a0-53af4b321fa3",
        "colab": {
          "base_uri": "https://localhost:8080/",
          "height": 755
        }
      },
      "source": [
        "# Load the pretrained model from pytorch\n",
        "vgg16 = models.vgg16(pretrained=True)\n",
        "num_features = vgg16.classifier[0].in_features\n",
        "\n",
        "fc = nn.Sequential(\n",
        "            nn.Linear(num_features, 220), # roll_no = 12, neurons = 120 + 100\n",
        "            nn.ReLU(True),\n",
        "            nn.Linear(220, 2)\n",
        "        )\n",
        "vgg16.classifier = fc\n",
        "print(vgg16)"
      ],
      "execution_count": 0,
      "outputs": [
        {
          "output_type": "stream",
          "text": [
            "VGG(\n",
            "  (features): Sequential(\n",
            "    (0): Conv2d(3, 64, kernel_size=(3, 3), stride=(1, 1), padding=(1, 1))\n",
            "    (1): ReLU(inplace=True)\n",
            "    (2): Conv2d(64, 64, kernel_size=(3, 3), stride=(1, 1), padding=(1, 1))\n",
            "    (3): ReLU(inplace=True)\n",
            "    (4): MaxPool2d(kernel_size=2, stride=2, padding=0, dilation=1, ceil_mode=False)\n",
            "    (5): Conv2d(64, 128, kernel_size=(3, 3), stride=(1, 1), padding=(1, 1))\n",
            "    (6): ReLU(inplace=True)\n",
            "    (7): Conv2d(128, 128, kernel_size=(3, 3), stride=(1, 1), padding=(1, 1))\n",
            "    (8): ReLU(inplace=True)\n",
            "    (9): MaxPool2d(kernel_size=2, stride=2, padding=0, dilation=1, ceil_mode=False)\n",
            "    (10): Conv2d(128, 256, kernel_size=(3, 3), stride=(1, 1), padding=(1, 1))\n",
            "    (11): ReLU(inplace=True)\n",
            "    (12): Conv2d(256, 256, kernel_size=(3, 3), stride=(1, 1), padding=(1, 1))\n",
            "    (13): ReLU(inplace=True)\n",
            "    (14): Conv2d(256, 256, kernel_size=(3, 3), stride=(1, 1), padding=(1, 1))\n",
            "    (15): ReLU(inplace=True)\n",
            "    (16): MaxPool2d(kernel_size=2, stride=2, padding=0, dilation=1, ceil_mode=False)\n",
            "    (17): Conv2d(256, 512, kernel_size=(3, 3), stride=(1, 1), padding=(1, 1))\n",
            "    (18): ReLU(inplace=True)\n",
            "    (19): Conv2d(512, 512, kernel_size=(3, 3), stride=(1, 1), padding=(1, 1))\n",
            "    (20): ReLU(inplace=True)\n",
            "    (21): Conv2d(512, 512, kernel_size=(3, 3), stride=(1, 1), padding=(1, 1))\n",
            "    (22): ReLU(inplace=True)\n",
            "    (23): MaxPool2d(kernel_size=2, stride=2, padding=0, dilation=1, ceil_mode=False)\n",
            "    (24): Conv2d(512, 512, kernel_size=(3, 3), stride=(1, 1), padding=(1, 1))\n",
            "    (25): ReLU(inplace=True)\n",
            "    (26): Conv2d(512, 512, kernel_size=(3, 3), stride=(1, 1), padding=(1, 1))\n",
            "    (27): ReLU(inplace=True)\n",
            "    (28): Conv2d(512, 512, kernel_size=(3, 3), stride=(1, 1), padding=(1, 1))\n",
            "    (29): ReLU(inplace=True)\n",
            "    (30): MaxPool2d(kernel_size=2, stride=2, padding=0, dilation=1, ceil_mode=False)\n",
            "  )\n",
            "  (avgpool): AdaptiveAvgPool2d(output_size=(7, 7))\n",
            "  (classifier): Sequential(\n",
            "    (0): Linear(in_features=25088, out_features=220, bias=True)\n",
            "    (1): ReLU(inplace=True)\n",
            "    (2): Linear(in_features=220, out_features=2, bias=True)\n",
            "  )\n",
            ")\n"
          ],
          "name": "stdout"
        }
      ]
    },
    {
      "cell_type": "markdown",
      "metadata": {
        "id": "-KtIk8ICg0bd",
        "colab_type": "text"
      },
      "source": [
        "# Freeze all Convolution Layers"
      ]
    },
    {
      "cell_type": "code",
      "metadata": {
        "id": "GKy7MPNZQIXK",
        "colab_type": "code",
        "colab": {}
      },
      "source": [
        "# Freeze training for all layers\n",
        "for param in vgg16.features.parameters():\n",
        "    param.require_grad = False"
      ],
      "execution_count": 0,
      "outputs": []
    },
    {
      "cell_type": "markdown",
      "metadata": {
        "id": "VoR0WOgUgy5n",
        "colab_type": "text"
      },
      "source": [
        "# Train the VGG16 model on our dataset "
      ]
    },
    {
      "cell_type": "code",
      "metadata": {
        "id": "WJCG-LvHTMpz",
        "colab_type": "code",
        "colab": {}
      },
      "source": [
        "Epochs = 10\n",
        "criterion = nn.CrossEntropyLoss()\n",
        "optimizer = optim.SGD(vgg16.parameters(), lr=0.001, momentum=0.9)"
      ],
      "execution_count": 0,
      "outputs": []
    },
    {
      "cell_type": "code",
      "metadata": {
        "id": "ULE8aWYpTSwv",
        "colab_type": "code",
        "outputId": "5901d0e5-220d-4c25-94f2-9ca34e810435",
        "colab": {
          "base_uri": "https://localhost:8080/",
          "height": 215
        }
      },
      "source": [
        "from tqdm import tqdm\n",
        "\n",
        "device = torch.device(\"cuda:0\" if torch.cuda.is_available() else \"cpu\")\n",
        "vgg16.to(device)\n",
        "\n",
        "vgg16.train()\n",
        "\n",
        "val_loss = list()\n",
        "val_acc = list()\n",
        "train_loss = list()\n",
        "train_acc = list()\n",
        "\n",
        "for epoch in range(Epochs):  # loop over the dataset multiple times\n",
        "\n",
        "    running_loss = 0.0\n",
        "    correct = 0\n",
        "    total = 0\n",
        "    pbar = tqdm(enumerate(trainloader))\n",
        "    for i, data in pbar:\n",
        "        # get the inputs\n",
        "        inputs, labels = data\n",
        "        inputs, labels = inputs.to(device), labels.to(device)\n",
        "\n",
        "        # zero the parameter gradients\n",
        "        optimizer.zero_grad()\n",
        "\n",
        "        # forward + backward + optimize\n",
        "        outputs = vgg16(inputs)               #----> forward pass\n",
        "        loss = criterion(outputs, labels)   #----> compute loss\n",
        "        loss.backward()                     #----> backward pass\n",
        "        optimizer.step()                    #----> weights update\n",
        "\n",
        "        #compute training accuracy\n",
        "        _, predicted = torch.max(outputs.data, 1)\n",
        "        total += labels.size(0)\n",
        "        correct += (predicted == labels).sum().item()\n",
        "\n",
        "        # print statistics\n",
        "        running_loss += loss.item()\n",
        "        \n",
        "        pbar.set_description(\n",
        "            'Train Epoch: {} [{}/{} ({:.0f}%)]\\tLoss: {:.6f} Acc: {}'.format(\n",
        "                epoch, i * len(inputs), len(trainloader.dataset),\n",
        "                100. * i / len(trainloader),\n",
        "                loss.item(), 100 * correct / total))\n",
        "    \n",
        "    train_loss.append(running_loss)\n",
        "    train_acc.append(100 * correct / total)\n",
        "    \n",
        "    correct = 0\n",
        "    total = 0\n",
        "    running_loss = 0\n",
        "    with torch.no_grad():\n",
        "        for data in valloader:\n",
        "            images, labels = data\n",
        "            images, labels = images.to(device), labels.to(device)\n",
        "            outputs = vgg16(images)\n",
        "            loss = criterion(outputs, labels)\n",
        "            _, predicted = torch.max(outputs.data, 1)\n",
        "            total += labels.size(0)\n",
        "            correct += (predicted == labels).sum().item()\n",
        "            running_loss += loss.item()\n",
        "    val_loss.append(running_loss)\n",
        "    val_acc.append(100 * correct / total)\n",
        "\n",
        "print('Finished Training')\n",
        "torch.save(vgg16.state_dict(), F'/content/drive/My Drive/Colab Notebooks/Assignment 5/vgg16_FC_Only.pth')"
      ],
      "execution_count": 0,
      "outputs": [
        {
          "output_type": "stream",
          "text": [
            "Train Epoch: 0 [11968/12000 (100%)]\tLoss: 0.080653 Acc: 89.74166666666666: : 375it [11:11,  1.79s/it]\n",
            "Train Epoch: 1 [11968/12000 (100%)]\tLoss: 0.195910 Acc: 93.1: : 375it [11:03,  1.77s/it]\n",
            "Train Epoch: 2 [11968/12000 (100%)]\tLoss: 0.179928 Acc: 93.925: : 375it [10:52,  1.74s/it]\n",
            "Train Epoch: 3 [11968/12000 (100%)]\tLoss: 0.108345 Acc: 94.10833333333333: : 375it [10:53,  1.74s/it]\n",
            "Train Epoch: 4 [11968/12000 (100%)]\tLoss: 0.134502 Acc: 94.625: : 375it [10:50,  1.73s/it]\n",
            "Train Epoch: 5 [11968/12000 (100%)]\tLoss: 0.270263 Acc: 94.64166666666667: : 375it [10:49,  1.73s/it]\n",
            "Train Epoch: 6 [11968/12000 (100%)]\tLoss: 0.236006 Acc: 95.2: : 375it [10:59,  1.76s/it]\n",
            "Train Epoch: 7 [11968/12000 (100%)]\tLoss: 0.154629 Acc: 95.30833333333334: : 375it [10:49,  1.73s/it]\n",
            "Train Epoch: 8 [11968/12000 (100%)]\tLoss: 0.025489 Acc: 95.61666666666666: : 375it [10:44,  1.72s/it]\n",
            "Train Epoch: 9 [11968/12000 (100%)]\tLoss: 0.160104 Acc: 95.73333333333333: : 375it [10:54,  1.74s/it]\n"
          ],
          "name": "stderr"
        },
        {
          "output_type": "stream",
          "text": [
            "Finished Training\n"
          ],
          "name": "stdout"
        }
      ]
    },
    {
      "cell_type": "markdown",
      "metadata": {
        "id": "Lr9E7Va7VvBk",
        "colab_type": "text"
      },
      "source": [
        "# Plot Accuracy and Loss curves"
      ]
    },
    {
      "cell_type": "code",
      "metadata": {
        "id": "p3lgt1v0AOcg",
        "colab_type": "code",
        "outputId": "6e994e77-d5a4-4003-8d3f-f5f117e519dc",
        "colab": {
          "base_uri": "https://localhost:8080/",
          "height": 545
        }
      },
      "source": [
        "#accuracy curve\n",
        "plt.subplots()\n",
        "plt.plot(train_acc, 'b', label = 'training accuracy')\n",
        "plt.plot(val_acc, 'r', label = 'Validation accuracy')\n",
        "plt.title(\"Accuracy Curve\")\n",
        "plt.legend()\n",
        "plt.show()\n",
        "\n",
        "#loss curve\n",
        "plt.subplots()\n",
        "plt.plot(np.array(train_loss)/375, 'b', label = 'training loss')\n",
        "plt.plot(np.array(val_loss)/47, 'r', label = 'Validation loss')\n",
        "plt.title(\"Loss Curve\")\n",
        "plt.legend()\n",
        "plt.show()"
      ],
      "execution_count": 0,
      "outputs": [
        {
          "output_type": "display_data",
          "data": {
            "image/png": "[encoded data removed]",
            "text/plain": [
              "<Figure size 432x288 with 1 Axes>"
            ]
          },
          "metadata": {
            "tags": [],
            "needs_background": "light"
          }
        },
        {
          "output_type": "display_data",
          "data": {
            "image/png": "[encoded data removed]",
            "text/plain": [
              "<Figure size 432x288 with 1 Axes>"
            ]
          },
          "metadata": {
            "tags": [],
            "needs_background": "light"
          }
        }
      ]
    },
    {
      "cell_type": "markdown",
      "metadata": {
        "id": "yS5f3RPhWWCW",
        "colab_type": "text"
      },
      "source": [
        "# Training Accuracy, Confusion matrix"
      ]
    },
    {
      "cell_type": "code",
      "metadata": {
        "id": "hlCHwrjxWdpD",
        "colab_type": "code",
        "outputId": "fd268fdc-ff7b-47f7-ea59-2dc58a208b99",
        "colab": {
          "base_uri": "https://localhost:8080/",
          "height": 107
        }
      },
      "source": [
        "correct = 0\n",
        "total = 0\n",
        "m = np.zeros((2,2))\n",
        "with torch.no_grad():\n",
        "    for data in trainloader:\n",
        "        images, labels = data\n",
        "        images, labels = images.to(device), labels.to(device)\n",
        "        outputs = vgg16(images)\n",
        "        _, predicted = torch.max(outputs.data, 1)\n",
        "        total += labels.size(0)\n",
        "        correct += (predicted == labels).sum().item()\n",
        "        m += confusion_matrix (labels.to('cpu'), predicted.to('cpu'))\n",
        "\n",
        "print('Accuracy of the network on the 12,000 training images: %d %%' % (\n",
        "    100 * correct / total))\n",
        "print('Confusion Matrix: ')\n",
        "print( '  true\\predicted  infected     normal')\n",
        "print( '     infected      ',m[0][0],'    ', m[0][1])\n",
        "print( '     normal        ',m[1][0],'     ', m[1][1])"
      ],
      "execution_count": 0,
      "outputs": [
        {
          "output_type": "stream",
          "text": [
            "Accuracy of the network on the 12,000 training images: 96 %\n",
            "Confusion Matrix: \n",
            "  true\\predicted  infected     normal\n",
            "     infected       4657.0      262.0\n",
            "     normal         187.0       6894.0\n"
          ],
          "name": "stdout"
        }
      ]
    },
    {
      "cell_type": "markdown",
      "metadata": {
        "id": "_OosZcrIDf3d",
        "colab_type": "text"
      },
      "source": [
        "# Validation Accuracy, Confusion matrix"
      ]
    },
    {
      "cell_type": "code",
      "metadata": {
        "id": "C7AS4pg2CozO",
        "colab_type": "code",
        "outputId": "47678687-1c99-4d07-ca35-165a25d7a42c",
        "colab": {
          "base_uri": "https://localhost:8080/",
          "height": 107
        }
      },
      "source": [
        "correct = 0\n",
        "total = 0\n",
        "device = torch.device(\"cuda:0\" if torch.cuda.is_available() else \"cpu\")\n",
        "vgg16.to(device)\n",
        "m = np.zeros((2,2))\n",
        "with torch.no_grad():\n",
        "    for data in valloader:\n",
        "        images, labels = data\n",
        "        images, labels = images.to(device), labels.to(device)\n",
        "        outputs = vgg16(images)\n",
        "        _, predicted = torch.max(outputs.data, 1)\n",
        "        total += labels.size(0)\n",
        "        correct += (predicted == labels).sum().item()\n",
        "        m += confusion_matrix (labels.to('cpu'), predicted.to('cpu'))\n",
        "\n",
        "print('Accuracy of the network on the 1500 validation images: %d %%' % (\n",
        "    100 * correct / total))\n",
        "print('Confusion Matrix: ')\n",
        "print( '  true\\predicted  infected    normal')\n",
        "print( '     infected      ',m[0][0],'    ', m[0][1])\n",
        "print( '     normal        ',m[1][0],'     ', m[1][1])"
      ],
      "execution_count": 0,
      "outputs": [
        {
          "output_type": "stream",
          "text": [
            "Accuracy of the network on the 1500 validation images: 92 %\n",
            "Confusion Matrix: \n",
            "  true\\predicted  infected    normal\n",
            "     infected       557.0      58.0\n",
            "     normal         51.0       834.0\n"
          ],
          "name": "stdout"
        }
      ]
    },
    {
      "cell_type": "markdown",
      "metadata": {
        "id": "vCpQQ0wlV1qD",
        "colab_type": "text"
      },
      "source": [
        "# Testing accuracy, Confusion matrix and F1 score"
      ]
    },
    {
      "cell_type": "code",
      "metadata": {
        "id": "pDQV7-pYVK91",
        "colab_type": "code",
        "outputId": "2b11f709-ee77-4778-faae-d5971c315ef5",
        "colab": {
          "base_uri": "https://localhost:8080/",
          "height": 107
        }
      },
      "source": [
        "from sklearn.metrics import confusion_matrix\n",
        "correct = 0\n",
        "total = 0\n",
        "m = np.zeros((2,2))\n",
        "with torch.no_grad():\n",
        "    for data in testloader:\n",
        "        images, labels = data\n",
        "        images, labels = images.to(device), labels.to(device)\n",
        "        outputs = vgg16(images)\n",
        "        _, predicted = torch.max(outputs.data, 1)\n",
        "        total += labels.size(0)\n",
        "        correct += (predicted == labels).sum().item()\n",
        "        m += confusion_matrix (labels.to('cpu'), predicted.to('cpu'))\n",
        "\n",
        "print('Accuracy of the network on the 1500 test images: %d %%' % (\n",
        "    100 * correct / total))\n",
        "print('Confusion Matrix: ')\n",
        "print( '  true\\predicted  infected    normal')\n",
        "print( '     infected      ',m[0][0],'       ', m[0][1])\n",
        "print( '     normal        ',m[1][0],'       ', m[1][1])"
      ],
      "execution_count": 0,
      "outputs": [
        {
          "output_type": "stream",
          "text": [
            "Accuracy of the network on the 1500 test images: 97 %\n",
            "Confusion Matrix: \n",
            "  true\\predicted  infected    normal\n",
            "     infected       589.0         26.0\n",
            "     normal         15.0         870.0\n"
          ],
          "name": "stdout"
        }
      ]
    },
    {
      "cell_type": "code",
      "metadata": {
        "id": "ZTDsgxq-G4qe",
        "colab_type": "code",
        "outputId": "1adc1345-c07f-4380-9b55-17ea2b802b62",
        "colab": {
          "base_uri": "https://localhost:8080/",
          "height": 71
        }
      },
      "source": [
        "precision = m[0][0] / (m[0][0] + m[1][0])\n",
        "recall = m[0][0] / (m[0][0] + m[0][1])\n",
        "F1 = 2 * precision * recall / (precision + recall)\n",
        "print('Precision: {:.3f}'.format(precision) )\n",
        "print('Recall:    {:.3f}'.format(recall))\n",
        "print('F1 score:  {:.3f}'.format(F1))"
      ],
      "execution_count": 0,
      "outputs": [
        {
          "output_type": "stream",
          "text": [
            "Precision: 0.975\n",
            "Recall:    0.958\n",
            "F1 score:  0.966\n"
          ],
          "name": "stdout"
        }
      ]
    },
    {
      "cell_type": "markdown",
      "metadata": {
        "id": "_qOpH6rvVZNz",
        "colab_type": "text"
      },
      "source": [
        "# Load pre-trained ResNet18 model and Freeze all layers"
      ]
    },
    {
      "cell_type": "code",
      "metadata": {
        "id": "6JWdgrLrH_ul",
        "colab_type": "code",
        "colab": {}
      },
      "source": [
        "# Load the pretrained model from pytorch\n",
        "resnet18 = models.resnet18(pretrained=True)\n",
        "\n",
        "# Freeze the parameters \n",
        "for param in resnet18.parameters():\n",
        "    param.requires_grad = False "
      ],
      "execution_count": 0,
      "outputs": []
    },
    {
      "cell_type": "markdown",
      "metadata": {
        "id": "EhEPJBTtVjrt",
        "colab_type": "text"
      },
      "source": [
        "# Replace the FC layers"
      ]
    },
    {
      "cell_type": "code",
      "metadata": {
        "id": "05G99xsnLQQD",
        "colab_type": "code",
        "outputId": "bd43eefc-6a77-44bf-f38e-5754f21397e3",
        "colab": {
          "base_uri": "https://localhost:8080/",
          "height": 1000
        }
      },
      "source": [
        "num_features = resnet18.fc.in_features\n",
        "my_fc = nn.Sequential(\n",
        "            nn.Linear(num_features, 220), # roll_no = 12, neurons = 120 + 100\n",
        "            nn.ReLU(True),\n",
        "            nn.Linear(220, 2)\n",
        "        )\n",
        "resnet18.fc = my_fc\n",
        "print(resnet18)"
      ],
      "execution_count": 0,
      "outputs": [
        {
          "output_type": "stream",
          "text": [
            "ResNet(\n",
            "  (conv1): Conv2d(3, 64, kernel_size=(7, 7), stride=(2, 2), padding=(3, 3), bias=False)\n",
            "  (bn1): BatchNorm2d(64, eps=1e-05, momentum=0.1, affine=True, track_running_stats=True)\n",
            "  (relu): ReLU(inplace=True)\n",
            "  (maxpool): MaxPool2d(kernel_size=3, stride=2, padding=1, dilation=1, ceil_mode=False)\n",
            "  (layer1): Sequential(\n",
            "    (0): BasicBlock(\n",
            "      (conv1): Conv2d(64, 64, kernel_size=(3, 3), stride=(1, 1), padding=(1, 1), bias=False)\n",
            "      (bn1): BatchNorm2d(64, eps=1e-05, momentum=0.1, affine=True, track_running_stats=True)\n",
            "      (relu): ReLU(inplace=True)\n",
            "      (conv2): Conv2d(64, 64, kernel_size=(3, 3), stride=(1, 1), padding=(1, 1), bias=False)\n",
            "      (bn2): BatchNorm2d(64, eps=1e-05, momentum=0.1, affine=True, track_running_stats=True)\n",
            "    )\n",
            "    (1): BasicBlock(\n",
            "      (conv1): Conv2d(64, 64, kernel_size=(3, 3), stride=(1, 1), padding=(1, 1), bias=False)\n",
            "      (bn1): BatchNorm2d(64, eps=1e-05, momentum=0.1, affine=True, track_running_stats=True)\n",
            "      (relu): ReLU(inplace=True)\n",
            "      (conv2): Conv2d(64, 64, kernel_size=(3, 3), stride=(1, 1), padding=(1, 1), bias=False)\n",
            "      (bn2): BatchNorm2d(64, eps=1e-05, momentum=0.1, affine=True, track_running_stats=True)\n",
            "    )\n",
            "  )\n",
            "  (layer2): Sequential(\n",
            "    (0): BasicBlock(\n",
            "      (conv1): Conv2d(64, 128, kernel_size=(3, 3), stride=(2, 2), padding=(1, 1), bias=False)\n",
            "      (bn1): BatchNorm2d(128, eps=1e-05, momentum=0.1, affine=True, track_running_stats=True)\n",
            "      (relu): ReLU(inplace=True)\n",
            "      (conv2): Conv2d(128, 128, kernel_size=(3, 3), stride=(1, 1), padding=(1, 1), bias=False)\n",
            "      (bn2): BatchNorm2d(128, eps=1e-05, momentum=0.1, affine=True, track_running_stats=True)\n",
            "      (downsample): Sequential(\n",
            "        (0): Conv2d(64, 128, kernel_size=(1, 1), stride=(2, 2), bias=False)\n",
            "        (1): BatchNorm2d(128, eps=1e-05, momentum=0.1, affine=True, track_running_stats=True)\n",
            "      )\n",
            "    )\n",
            "    (1): BasicBlock(\n",
            "      (conv1): Conv2d(128, 128, kernel_size=(3, 3), stride=(1, 1), padding=(1, 1), bias=False)\n",
            "      (bn1): BatchNorm2d(128, eps=1e-05, momentum=0.1, affine=True, track_running_stats=True)\n",
            "      (relu): ReLU(inplace=True)\n",
            "      (conv2): Conv2d(128, 128, kernel_size=(3, 3), stride=(1, 1), padding=(1, 1), bias=False)\n",
            "      (bn2): BatchNorm2d(128, eps=1e-05, momentum=0.1, affine=True, track_running_stats=True)\n",
            "    )\n",
            "  )\n",
            "  (layer3): Sequential(\n",
            "    (0): BasicBlock(\n",
            "      (conv1): Conv2d(128, 256, kernel_size=(3, 3), stride=(2, 2), padding=(1, 1), bias=False)\n",
            "      (bn1): BatchNorm2d(256, eps=1e-05, momentum=0.1, affine=True, track_running_stats=True)\n",
            "      (relu): ReLU(inplace=True)\n",
            "      (conv2): Conv2d(256, 256, kernel_size=(3, 3), stride=(1, 1), padding=(1, 1), bias=False)\n",
            "      (bn2): BatchNorm2d(256, eps=1e-05, momentum=0.1, affine=True, track_running_stats=True)\n",
            "      (downsample): Sequential(\n",
            "        (0): Conv2d(128, 256, kernel_size=(1, 1), stride=(2, 2), bias=False)\n",
            "        (1): BatchNorm2d(256, eps=1e-05, momentum=0.1, affine=True, track_running_stats=True)\n",
            "      )\n",
            "    )\n",
            "    (1): BasicBlock(\n",
            "      (conv1): Conv2d(256, 256, kernel_size=(3, 3), stride=(1, 1), padding=(1, 1), bias=False)\n",
            "      (bn1): BatchNorm2d(256, eps=1e-05, momentum=0.1, affine=True, track_running_stats=True)\n",
            "      (relu): ReLU(inplace=True)\n",
            "      (conv2): Conv2d(256, 256, kernel_size=(3, 3), stride=(1, 1), padding=(1, 1), bias=False)\n",
            "      (bn2): BatchNorm2d(256, eps=1e-05, momentum=0.1, affine=True, track_running_stats=True)\n",
            "    )\n",
            "  )\n",
            "  (layer4): Sequential(\n",
            "    (0): BasicBlock(\n",
            "      (conv1): Conv2d(256, 512, kernel_size=(3, 3), stride=(2, 2), padding=(1, 1), bias=False)\n",
            "      (bn1): BatchNorm2d(512, eps=1e-05, momentum=0.1, affine=True, track_running_stats=True)\n",
            "      (relu): ReLU(inplace=True)\n",
            "      (conv2): Conv2d(512, 512, kernel_size=(3, 3), stride=(1, 1), padding=(1, 1), bias=False)\n",
            "      (bn2): BatchNorm2d(512, eps=1e-05, momentum=0.1, affine=True, track_running_stats=True)\n",
            "      (downsample): Sequential(\n",
            "        (0): Conv2d(256, 512, kernel_size=(1, 1), stride=(2, 2), bias=False)\n",
            "        (1): BatchNorm2d(512, eps=1e-05, momentum=0.1, affine=True, track_running_stats=True)\n",
            "      )\n",
            "    )\n",
            "    (1): BasicBlock(\n",
            "      (conv1): Conv2d(512, 512, kernel_size=(3, 3), stride=(1, 1), padding=(1, 1), bias=False)\n",
            "      (bn1): BatchNorm2d(512, eps=1e-05, momentum=0.1, affine=True, track_running_stats=True)\n",
            "      (relu): ReLU(inplace=True)\n",
            "      (conv2): Conv2d(512, 512, kernel_size=(3, 3), stride=(1, 1), padding=(1, 1), bias=False)\n",
            "      (bn2): BatchNorm2d(512, eps=1e-05, momentum=0.1, affine=True, track_running_stats=True)\n",
            "    )\n",
            "  )\n",
            "  (avgpool): AdaptiveAvgPool2d(output_size=(1, 1))\n",
            "  (fc): Sequential(\n",
            "    (0): Linear(in_features=512, out_features=220, bias=True)\n",
            "    (1): ReLU(inplace=True)\n",
            "    (2): Linear(in_features=220, out_features=2, bias=True)\n",
            "  )\n",
            ")\n"
          ],
          "name": "stdout"
        }
      ]
    },
    {
      "cell_type": "markdown",
      "metadata": {
        "id": "QzKDQxafWjB3",
        "colab_type": "text"
      },
      "source": [
        "# Train the ResNet18 model on our dataset "
      ]
    },
    {
      "cell_type": "code",
      "metadata": {
        "id": "hfeUezENM5mE",
        "colab_type": "code",
        "colab": {}
      },
      "source": [
        "Epochs = 10\n",
        "criterion = nn.CrossEntropyLoss()\n",
        "optimizer = optim.SGD(resnet18.parameters(), lr=0.001, momentum=0.9)"
      ],
      "execution_count": 0,
      "outputs": []
    },
    {
      "cell_type": "code",
      "metadata": {
        "id": "Y5vu6NpvNzku",
        "colab_type": "code",
        "outputId": "5a070ace-c500-4312-f964-73adef31931d",
        "colab": {
          "base_uri": "https://localhost:8080/",
          "height": 215
        }
      },
      "source": [
        "from tqdm import tqdm\n",
        "\n",
        "device = torch.device(\"cuda:0\" if torch.cuda.is_available() else \"cpu\")\n",
        "resnet18.to(device)\n",
        "\n",
        "resnet18.train()\n",
        "\n",
        "val_loss = list()\n",
        "val_acc = list()\n",
        "train_loss = list()\n",
        "train_acc = list()\n",
        "\n",
        "for epoch in range(Epochs):  # loop over the dataset multiple times\n",
        "\n",
        "    running_loss = 0.0\n",
        "    correct = 0\n",
        "    total = 0\n",
        "    pbar = tqdm(enumerate(trainloader))\n",
        "    for i, data in pbar:\n",
        "        # get the inputs\n",
        "        inputs, labels = data\n",
        "        inputs, labels = inputs.to(device), labels.to(device)\n",
        "\n",
        "        # zero the parameter gradients\n",
        "        optimizer.zero_grad()\n",
        "\n",
        "        # forward + backward + optimize\n",
        "        outputs = resnet18(inputs)               #----> forward pass\n",
        "        loss = criterion(outputs, labels)   #----> compute loss\n",
        "        loss.backward()                     #----> backward pass\n",
        "        optimizer.step()                    #----> weights update\n",
        "\n",
        "        #compute training accuracy\n",
        "        _, predicted = torch.max(outputs.data, 1)\n",
        "        total += labels.size(0)\n",
        "        correct += (predicted == labels).sum().item()\n",
        "\n",
        "        # print statistics\n",
        "        running_loss += loss.item()\n",
        "        \n",
        "        pbar.set_description(\n",
        "            'Train Epoch: {} [{}/{} ({:.0f}%)]\\tLoss: {:.6f} Acc: {:.3f}'.format(\n",
        "                epoch, i * len(inputs), len(trainloader.dataset),\n",
        "                100. * i / len(trainloader),\n",
        "                loss.item(), 100 * correct / total))\n",
        "    \n",
        "    train_loss.append(running_loss)\n",
        "    train_acc.append(100 * correct / total)\n",
        "    \n",
        "    correct = 0\n",
        "    total = 0\n",
        "    running_loss = 0\n",
        "    with torch.no_grad():\n",
        "        for data in valloader:\n",
        "            images, labels = data\n",
        "            images, labels = images.to(device), labels.to(device)\n",
        "            outputs = resnet18(images)\n",
        "            loss = criterion(outputs, labels)\n",
        "            _, predicted = torch.max(outputs.data, 1)\n",
        "            total += labels.size(0)\n",
        "            correct += (predicted == labels).sum().item()\n",
        "            running_loss += loss.item()\n",
        "    val_loss.append(running_loss)\n",
        "    val_acc.append(100 * correct / total)\n",
        "\n",
        "print('Finished Training')\n",
        "torch.save(resnet18.state_dict(), F'/content/drive/My Drive/Colab Notebooks/Assignment 5/resnet18_FC_Only.pth')"
      ],
      "execution_count": 0,
      "outputs": [
        {
          "output_type": "stream",
          "text": [
            "Train Epoch: 0 [11968/12000 (100%)]\tLoss: 0.371535 Acc: 81.342: : 375it [06:19,  1.01s/it]\n",
            "Train Epoch: 1 [11968/12000 (100%)]\tLoss: 0.259425 Acc: 86.075: : 375it [06:14,  1.00it/s]\n",
            "Train Epoch: 2 [11968/12000 (100%)]\tLoss: 0.220450 Acc: 86.925: : 375it [06:14,  1.00it/s]\n",
            "Train Epoch: 3 [11968/12000 (100%)]\tLoss: 0.289370 Acc: 87.117: : 375it [06:15,  1.00s/it]\n",
            "Train Epoch: 4 [11968/12000 (100%)]\tLoss: 0.290890 Acc: 87.042: : 375it [06:15,  1.00s/it]\n",
            "Train Epoch: 5 [11968/12000 (100%)]\tLoss: 0.299248 Acc: 87.042: : 375it [06:11,  1.01it/s]\n",
            "Train Epoch: 6 [11968/12000 (100%)]\tLoss: 0.308736 Acc: 87.075: : 375it [06:11,  1.01it/s]\n",
            "Train Epoch: 7 [11968/12000 (100%)]\tLoss: 0.098478 Acc: 87.658: : 375it [06:15,  1.00s/it]\n",
            "Train Epoch: 8 [11968/12000 (100%)]\tLoss: 0.136659 Acc: 87.875: : 375it [06:08,  1.02it/s]\n",
            "Train Epoch: 9 [11968/12000 (100%)]\tLoss: 0.594889 Acc: 87.950: : 375it [06:06,  1.02it/s]\n"
          ],
          "name": "stderr"
        },
        {
          "output_type": "stream",
          "text": [
            "Finished Training\n"
          ],
          "name": "stdout"
        }
      ]
    },
    {
      "cell_type": "markdown",
      "metadata": {
        "id": "jjgkKWzLXS5T",
        "colab_type": "text"
      },
      "source": [
        "# Plot Accuracy and Loss curves"
      ]
    },
    {
      "cell_type": "code",
      "metadata": {
        "id": "OZfMrkyNOOh5",
        "colab_type": "code",
        "outputId": "cfc8a645-3136-4aca-c5f5-8600468d9a6c",
        "colab": {
          "base_uri": "https://localhost:8080/",
          "height": 545
        }
      },
      "source": [
        "#accuracy curve\n",
        "plt.subplots()\n",
        "plt.plot(train_acc, 'b', label = 'training accuracy')\n",
        "plt.plot(val_acc, 'r', label = 'Validation accuracy')\n",
        "plt.title(\"Accuracy Curve\")\n",
        "plt.legend()\n",
        "plt.show()\n",
        "\n",
        "#loss curve\n",
        "plt.subplots()\n",
        "plt.plot(np.array(train_loss)/375, 'b', label = 'training loss')\n",
        "plt.plot(np.array(val_loss)/47, 'r', label = 'Validation loss')\n",
        "plt.title(\"Loss Curve\")\n",
        "plt.legend()\n",
        "plt.show()"
      ],
      "execution_count": 0,
      "outputs": [
        {
          "output_type": "display_data",
          "data": {
            "image/png": "[encoded data removed]",
            "text/plain": [
              "<Figure size 432x288 with 1 Axes>"
            ]
          },
          "metadata": {
            "tags": [],
            "needs_background": "light"
          }
        },
        {
          "output_type": "display_data",
          "data": {
            "image/png": "[encoded data removed]",
            "text/plain": [
              "<Figure size 432x288 with 1 Axes>"
            ]
          },
          "metadata": {
            "tags": [],
            "needs_background": "light"
          }
        }
      ]
    },
    {
      "cell_type": "markdown",
      "metadata": {
        "id": "Kc5rq8gfXgJ3",
        "colab_type": "text"
      },
      "source": [
        "# Training Accuracy, Confusion matrix"
      ]
    },
    {
      "cell_type": "code",
      "metadata": {
        "id": "aC3BGo5rXlW_",
        "colab_type": "code",
        "outputId": "3ea79343-4f16-48d4-e567-78e1c64a6ba1",
        "colab": {
          "base_uri": "https://localhost:8080/",
          "height": 107
        }
      },
      "source": [
        "correct = 0\n",
        "total = 0\n",
        "m = np.zeros((2,2))\n",
        "with torch.no_grad():\n",
        "    for data in trainloader:\n",
        "        images, labels = data\n",
        "        images, labels = images.to(device), labels.to(device)\n",
        "        outputs = resnet18(images)\n",
        "        _, predicted = torch.max(outputs.data, 1)\n",
        "        total += labels.size(0)\n",
        "        correct += (predicted == labels).sum().item()\n",
        "        m += confusion_matrix (labels.to('cpu'), predicted.to('cpu'))\n",
        "\n",
        "print('Accuracy of the network on the 12,000 training images: %d %%' % (\n",
        "    100 * correct / total))\n",
        "print('Confusion Matrix: ')\n",
        "print( '  true\\predicted  infected     normal')\n",
        "print( '     infected      ',m[0][0],'    ', m[0][1])\n",
        "print( '     normal        ',m[1][0],'     ', m[1][1])"
      ],
      "execution_count": 0,
      "outputs": [
        {
          "output_type": "stream",
          "text": [
            "Accuracy of the network on the 12,000 training images: 87 %\n",
            "Confusion Matrix: \n",
            "  true\\predicted  infected     normal\n",
            "     infected       3899.0      1020.0\n",
            "     normal         456.0       6625.0\n"
          ],
          "name": "stdout"
        }
      ]
    },
    {
      "cell_type": "markdown",
      "metadata": {
        "id": "MbwmU8o7YCS5",
        "colab_type": "text"
      },
      "source": [
        "# Validation Accuracy, Confusion matrix"
      ]
    },
    {
      "cell_type": "code",
      "metadata": {
        "id": "l3sYjygdYEhB",
        "colab_type": "code",
        "outputId": "24b26a7e-0543-41d1-add2-7cfdf5102fae",
        "colab": {
          "base_uri": "https://localhost:8080/",
          "height": 107
        }
      },
      "source": [
        "correct = 0\n",
        "total = 0\n",
        "m = np.zeros((2,2))\n",
        "with torch.no_grad():\n",
        "    for data in valloader:\n",
        "        images, labels = data\n",
        "        images, labels = images.to(device), labels.to(device)\n",
        "        outputs = resnet18(images)\n",
        "        _, predicted = torch.max(outputs.data, 1)\n",
        "        total += labels.size(0)\n",
        "        correct += (predicted == labels).sum().item()\n",
        "        m += confusion_matrix (labels.to('cpu'), predicted.to('cpu'))\n",
        "\n",
        "print('Accuracy of the network on the 1500 validation images: %d %%' % (\n",
        "    100 * correct / total))\n",
        "print('Confusion Matrix: ')\n",
        "print( '  true\\predicted  infected    normal')\n",
        "print( '     infected      ',m[0][0],'    ', m[0][1])\n",
        "print( '     normal        ',m[1][0],'     ', m[1][1])"
      ],
      "execution_count": 0,
      "outputs": [
        {
          "output_type": "stream",
          "text": [
            "Accuracy of the network on the 1500 validation images: 84 %\n",
            "Confusion Matrix: \n",
            "  true\\predicted  infected    normal\n",
            "     infected       458.0      157.0\n",
            "     normal         79.0       806.0\n"
          ],
          "name": "stdout"
        }
      ]
    },
    {
      "cell_type": "markdown",
      "metadata": {
        "id": "SxuuvcklYWzx",
        "colab_type": "text"
      },
      "source": [
        "# Test Accuracy, Confusion matrix and F1 score"
      ]
    },
    {
      "cell_type": "code",
      "metadata": {
        "id": "hba765ffYfha",
        "colab_type": "code",
        "outputId": "f5288ef0-3e58-48aa-a7f0-83f0bed0c6d9",
        "colab": {
          "base_uri": "https://localhost:8080/",
          "height": 107
        }
      },
      "source": [
        "correct = 0\n",
        "total = 0\n",
        "m = np.zeros((2,2))\n",
        "with torch.no_grad():\n",
        "    for data in testloader:\n",
        "        images, labels = data\n",
        "        images, labels = images.to(device), labels.to(device)\n",
        "        outputs = resnet18(images)\n",
        "        _, predicted = torch.max(outputs.data, 1)\n",
        "        total += labels.size(0)\n",
        "        correct += (predicted == labels).sum().item()\n",
        "        m += confusion_matrix (labels.to('cpu'), predicted.to('cpu'))\n",
        "\n",
        "print('Accuracy of the network on the 1500 test images: %d %%' % (\n",
        "    100 * correct / total))\n",
        "print('Confusion Matrix: ')\n",
        "print( '  true\\predicted  infected    normal')\n",
        "print( '     infected      ',m[0][0],'    ', m[0][1])\n",
        "print( '     normal        ',m[1][0],'     ', m[1][1])"
      ],
      "execution_count": 0,
      "outputs": [
        {
          "output_type": "stream",
          "text": [
            "Accuracy of the network on the 1500 test images: 90 %\n",
            "Confusion Matrix: \n",
            "  true\\predicted  infected    normal\n",
            "     infected       515.0      100.0\n",
            "     normal         37.0       848.0\n"
          ],
          "name": "stdout"
        }
      ]
    },
    {
      "cell_type": "code",
      "metadata": {
        "id": "clpsfyVYZb77",
        "colab_type": "code",
        "outputId": "7bc98ca3-b170-452b-994d-27efa6d16f4a",
        "colab": {
          "base_uri": "https://localhost:8080/",
          "height": 71
        }
      },
      "source": [
        "precision = m[0][0] / (m[0][0] + m[1][0])\n",
        "recall = m[0][0] / (m[0][0] + m[0][1])\n",
        "F1 = 2 * precision * recall / (precision + recall)\n",
        "print('Precision: {:.3f}'.format(precision) )\n",
        "print('Recall:    {:.3f}'.format(recall))\n",
        "print('F1 score:  {:.3f}'.format(F1))"
      ],
      "execution_count": 0,
      "outputs": [
        {
          "output_type": "stream",
          "text": [
            "Precision: 0.933\n",
            "Recall:    0.837\n",
            "F1 score:  0.883\n"
          ],
          "name": "stdout"
        }
      ]
    },
    {
      "cell_type": "markdown",
      "metadata": {
        "id": "AVf830-FhD1c",
        "colab_type": "text"
      },
      "source": [
        "# **Task 2**"
      ]
    },
    {
      "cell_type": "markdown",
      "metadata": {
        "id": "6QCq37YfmE-s",
        "colab_type": "text"
      },
      "source": [
        "# Load pre-trained VGG16 model and replace the FC layers"
      ]
    },
    {
      "cell_type": "code",
      "metadata": {
        "id": "mQR5UNwTk5fn",
        "colab_type": "code",
        "outputId": "66be1414-b6d1-461b-f2f8-ad1de370673c",
        "colab": {
          "base_uri": "https://localhost:8080/",
          "height": 755
        }
      },
      "source": [
        "# Load the pretrained model from pytorch\n",
        "vgg16 = models.vgg16(pretrained=True)\n",
        "num_features = vgg16.classifier[0].in_features\n",
        "\n",
        "fc = nn.Sequential(\n",
        "            nn.Linear(num_features, 220), # roll_no = 12, neurons = 120 + 100\n",
        "            nn.ReLU(True),\n",
        "            nn.Linear(220, 2)\n",
        "        )\n",
        "vgg16.classifier = fc\n",
        "print(vgg16)"
      ],
      "execution_count": 0,
      "outputs": [
        {
          "output_type": "stream",
          "text": [
            "VGG(\n",
            "  (features): Sequential(\n",
            "    (0): Conv2d(3, 64, kernel_size=(3, 3), stride=(1, 1), padding=(1, 1))\n",
            "    (1): ReLU(inplace=True)\n",
            "    (2): Conv2d(64, 64, kernel_size=(3, 3), stride=(1, 1), padding=(1, 1))\n",
            "    (3): ReLU(inplace=True)\n",
            "    (4): MaxPool2d(kernel_size=2, stride=2, padding=0, dilation=1, ceil_mode=False)\n",
            "    (5): Conv2d(64, 128, kernel_size=(3, 3), stride=(1, 1), padding=(1, 1))\n",
            "    (6): ReLU(inplace=True)\n",
            "    (7): Conv2d(128, 128, kernel_size=(3, 3), stride=(1, 1), padding=(1, 1))\n",
            "    (8): ReLU(inplace=True)\n",
            "    (9): MaxPool2d(kernel_size=2, stride=2, padding=0, dilation=1, ceil_mode=False)\n",
            "    (10): Conv2d(128, 256, kernel_size=(3, 3), stride=(1, 1), padding=(1, 1))\n",
            "    (11): ReLU(inplace=True)\n",
            "    (12): Conv2d(256, 256, kernel_size=(3, 3), stride=(1, 1), padding=(1, 1))\n",
            "    (13): ReLU(inplace=True)\n",
            "    (14): Conv2d(256, 256, kernel_size=(3, 3), stride=(1, 1), padding=(1, 1))\n",
            "    (15): ReLU(inplace=True)\n",
            "    (16): MaxPool2d(kernel_size=2, stride=2, padding=0, dilation=1, ceil_mode=False)\n",
            "    (17): Conv2d(256, 512, kernel_size=(3, 3), stride=(1, 1), padding=(1, 1))\n",
            "    (18): ReLU(inplace=True)\n",
            "    (19): Conv2d(512, 512, kernel_size=(3, 3), stride=(1, 1), padding=(1, 1))\n",
            "    (20): ReLU(inplace=True)\n",
            "    (21): Conv2d(512, 512, kernel_size=(3, 3), stride=(1, 1), padding=(1, 1))\n",
            "    (22): ReLU(inplace=True)\n",
            "    (23): MaxPool2d(kernel_size=2, stride=2, padding=0, dilation=1, ceil_mode=False)\n",
            "    (24): Conv2d(512, 512, kernel_size=(3, 3), stride=(1, 1), padding=(1, 1))\n",
            "    (25): ReLU(inplace=True)\n",
            "    (26): Conv2d(512, 512, kernel_size=(3, 3), stride=(1, 1), padding=(1, 1))\n",
            "    (27): ReLU(inplace=True)\n",
            "    (28): Conv2d(512, 512, kernel_size=(3, 3), stride=(1, 1), padding=(1, 1))\n",
            "    (29): ReLU(inplace=True)\n",
            "    (30): MaxPool2d(kernel_size=2, stride=2, padding=0, dilation=1, ceil_mode=False)\n",
            "  )\n",
            "  (avgpool): AdaptiveAvgPool2d(output_size=(7, 7))\n",
            "  (classifier): Sequential(\n",
            "    (0): Linear(in_features=25088, out_features=220, bias=True)\n",
            "    (1): ReLU(inplace=True)\n",
            "    (2): Linear(in_features=220, out_features=2, bias=True)\n",
            "  )\n",
            ")\n"
          ],
          "name": "stdout"
        }
      ]
    },
    {
      "cell_type": "markdown",
      "metadata": {
        "id": "5uxQIgXdmYLc",
        "colab_type": "text"
      },
      "source": [
        "# Train the VGG16 model on our dataset (No layers are frozen)"
      ]
    },
    {
      "cell_type": "code",
      "metadata": {
        "id": "WSRXpPfLmL3i",
        "colab_type": "code",
        "colab": {}
      },
      "source": [
        "Epochs = 10\n",
        "criterion = nn.CrossEntropyLoss()\n",
        "optimizer = optim.SGD(vgg16.parameters(), lr=0.001, momentum=0.9)"
      ],
      "execution_count": 0,
      "outputs": []
    },
    {
      "cell_type": "code",
      "metadata": {
        "id": "7OWCFVZBsT5Y",
        "colab_type": "code",
        "outputId": "509bae22-4a35-494f-eff4-d24d3f07d1f2",
        "colab": {
          "base_uri": "https://localhost:8080/",
          "height": 215
        }
      },
      "source": [
        "from tqdm import tqdm\n",
        "\n",
        "device = torch.device(\"cuda:0\" if torch.cuda.is_available() else \"cpu\")\n",
        "vgg16.to(device)\n",
        "\n",
        "vgg16.train()\n",
        "\n",
        "val_loss = list()\n",
        "val_acc = list()\n",
        "train_loss = list()\n",
        "train_acc = list()\n",
        "\n",
        "for epoch in range(Epochs):  # loop over the dataset multiple times\n",
        "\n",
        "    running_loss = 0.0\n",
        "    correct = 0\n",
        "    total = 0\n",
        "    pbar = tqdm(enumerate(trainloader))\n",
        "    for i, data in pbar:\n",
        "        # get the inputs\n",
        "        inputs, labels = data\n",
        "        inputs, labels = inputs.to(device), labels.to(device)\n",
        "\n",
        "        # zero the parameter gradients\n",
        "        optimizer.zero_grad()\n",
        "\n",
        "        # forward + backward + optimize\n",
        "        outputs = vgg16(inputs)               #----> forward pass\n",
        "        loss = criterion(outputs, labels)   #----> compute loss\n",
        "        loss.backward()                     #----> backward pass\n",
        "        optimizer.step()                    #----> weights update\n",
        "\n",
        "        #compute training accuracy\n",
        "        _, predicted = torch.max(outputs.data, 1)\n",
        "        total += labels.size(0)\n",
        "        correct += (predicted == labels).sum().item()\n",
        "\n",
        "        # print statistics\n",
        "        running_loss += loss.item()\n",
        "        \n",
        "        pbar.set_description(\n",
        "            'Train Epoch: {} [{}/{} ({:.0f}%)]\\tLoss: {:.6f} Acc: {}'.format(\n",
        "                epoch, i * len(inputs), len(trainloader.dataset),\n",
        "                100. * i / len(trainloader),\n",
        "                loss.item(), 100 * correct / total))\n",
        "    \n",
        "    train_loss.append(running_loss)\n",
        "    train_acc.append(100 * correct / total)\n",
        "    \n",
        "    correct = 0\n",
        "    total = 0\n",
        "    running_loss = 0\n",
        "    with torch.no_grad():\n",
        "        for data in valloader:\n",
        "            images, labels = data\n",
        "            images, labels = images.to(device), labels.to(device)\n",
        "            outputs = vgg16(images)\n",
        "            loss = criterion(outputs, labels)\n",
        "            _, predicted = torch.max(outputs.data, 1)\n",
        "            total += labels.size(0)\n",
        "            correct += (predicted == labels).sum().item()\n",
        "            running_loss += loss.item()\n",
        "    val_loss.append(running_loss)\n",
        "    val_acc.append(100 * correct / total)\n",
        "\n",
        "print('Finished Training')\n",
        "torch.save(vgg16.state_dict(), F'/content/drive/My Drive/Colab Notebooks/Assignment 5/vgg16_entire.pth')"
      ],
      "execution_count": 0,
      "outputs": [
        {
          "output_type": "stream",
          "text": [
            "Train Epoch: 0 [11968/12000 (100%)]\tLoss: 0.075060 Acc: 89.73333333333333: : 375it [08:36,  1.38s/it]\n",
            "Train Epoch: 1 [11968/12000 (100%)]\tLoss: 0.340808 Acc: 93.09166666666667: : 375it [08:36,  1.38s/it]\n",
            "Train Epoch: 2 [11968/12000 (100%)]\tLoss: 0.162573 Acc: 93.85833333333333: : 375it [08:30,  1.36s/it]\n",
            "Train Epoch: 3 [11968/12000 (100%)]\tLoss: 0.180500 Acc: 94.2: : 375it [08:31,  1.36s/it]\n",
            "Train Epoch: 4 [11968/12000 (100%)]\tLoss: 0.150290 Acc: 94.66666666666667: : 375it [08:31,  1.36s/it]\n",
            "Train Epoch: 5 [11968/12000 (100%)]\tLoss: 0.105318 Acc: 94.98333333333333: : 375it [08:32,  1.37s/it]\n",
            "Train Epoch: 6 [11968/12000 (100%)]\tLoss: 0.018235 Acc: 95.29166666666667: : 375it [08:27,  1.35s/it]\n",
            "Train Epoch: 7 [11968/12000 (100%)]\tLoss: 0.115474 Acc: 95.6: : 375it [08:30,  1.36s/it]\n",
            "Train Epoch: 8 [11968/12000 (100%)]\tLoss: 0.174108 Acc: 95.525: : 375it [08:38,  1.38s/it]\n",
            "Train Epoch: 9 [11968/12000 (100%)]\tLoss: 0.122769 Acc: 95.875: : 375it [08:33,  1.37s/it]\n"
          ],
          "name": "stderr"
        },
        {
          "output_type": "stream",
          "text": [
            "Finished Training\n"
          ],
          "name": "stdout"
        }
      ]
    },
    {
      "cell_type": "markdown",
      "metadata": {
        "id": "VlNVWYSUsrrz",
        "colab_type": "text"
      },
      "source": [
        "# Plot Accuracy and Loss curves"
      ]
    },
    {
      "cell_type": "code",
      "metadata": {
        "id": "lUvWOmC9ssXb",
        "colab_type": "code",
        "outputId": "eb2ef72a-4b94-4364-b15f-05e5c71c4682",
        "colab": {
          "base_uri": "https://localhost:8080/",
          "height": 545
        }
      },
      "source": [
        "#accuracy curve\n",
        "plt.subplots()\n",
        "plt.plot(train_acc, 'b', label = 'training accuracy')\n",
        "plt.plot(val_acc, 'r', label = 'Validation accuracy')\n",
        "plt.title(\"Accuracy Curve\")\n",
        "plt.legend()\n",
        "plt.show()\n",
        "\n",
        "#loss curve\n",
        "plt.subplots()\n",
        "plt.plot(np.array(train_loss)/375, 'b', label = 'training loss')\n",
        "plt.plot(np.array(val_loss)/47, 'r', label = 'Validation loss')\n",
        "plt.title(\"Loss Curve\")\n",
        "plt.legend()\n",
        "plt.show()"
      ],
      "execution_count": 0,
      "outputs": [
        {
          "output_type": "display_data",
          "data": {
            "image/png": "[encoded data removed]",
            "text/plain": [
              "<Figure size 432x288 with 1 Axes>"
            ]
          },
          "metadata": {
            "tags": [],
            "needs_background": "light"
          }
        },
        {
          "output_type": "display_data",
          "data": {
            "image/png": "[encoded data removed]",
            "text/plain": [
              "<Figure size 432x288 with 1 Axes>"
            ]
          },
          "metadata": {
            "tags": [],
            "needs_background": "light"
          }
        }
      ]
    },
    {
      "cell_type": "markdown",
      "metadata": {
        "id": "3kxTTXv_s0I8",
        "colab_type": "text"
      },
      "source": [
        "# Training accuracy, Confusion matrix"
      ]
    },
    {
      "cell_type": "code",
      "metadata": {
        "id": "zGJBzPT2s2ql",
        "colab_type": "code",
        "outputId": "0c344748-1f1d-4a3a-d446-192e677f25be",
        "colab": {
          "base_uri": "https://localhost:8080/",
          "height": 107
        }
      },
      "source": [
        "correct = 0\n",
        "total = 0\n",
        "m = np.zeros((2,2))\n",
        "with torch.no_grad():\n",
        "    for data in trainloader:\n",
        "        images, labels = data\n",
        "        images, labels = images.to(device), labels.to(device)\n",
        "        outputs = vgg16(images)\n",
        "        _, predicted = torch.max(outputs.data, 1)\n",
        "        total += labels.size(0)\n",
        "        correct += (predicted == labels).sum().item()\n",
        "        m += confusion_matrix (labels.to('cpu'), predicted.to('cpu'))\n",
        "\n",
        "print('Accuracy of the network on the 12,000 training images: %d %%' % (\n",
        "    100 * correct / total))\n",
        "print('Confusion Matrix: ')\n",
        "print( '  true\\predicted  infected     normal')\n",
        "print( '     infected      ',m[0][0],'    ', m[0][1])\n",
        "print( '     normal        ',m[1][0],'     ', m[1][1])"
      ],
      "execution_count": 0,
      "outputs": [
        {
          "output_type": "stream",
          "text": [
            "Accuracy of the network on the 12,000 training images: 96 %\n",
            "Confusion Matrix: \n",
            "  true\\predicted  infected     normal\n",
            "     infected       4609.0      310.0\n",
            "     normal         114.0       6967.0\n"
          ],
          "name": "stdout"
        }
      ]
    },
    {
      "cell_type": "markdown",
      "metadata": {
        "id": "xT7tp4ips_Hy",
        "colab_type": "text"
      },
      "source": [
        "# Validation accuracy, Confusion matrix"
      ]
    },
    {
      "cell_type": "code",
      "metadata": {
        "id": "rVy2z0qrtG-W",
        "colab_type": "code",
        "outputId": "8739a23d-872d-471f-d396-dc028485efa6",
        "colab": {
          "base_uri": "https://localhost:8080/",
          "height": 107
        }
      },
      "source": [
        "correct = 0\n",
        "total = 0\n",
        "m = np.zeros((2,2))\n",
        "with torch.no_grad():\n",
        "    for data in valloader:\n",
        "        images, labels = data\n",
        "        images, labels = images.to(device), labels.to(device)\n",
        "        outputs = vgg16(images)\n",
        "        _, predicted = torch.max(outputs.data, 1)\n",
        "        total += labels.size(0)\n",
        "        correct += (predicted == labels).sum().item()\n",
        "        m += confusion_matrix (labels.to('cpu'), predicted.to('cpu'))\n",
        "\n",
        "print('Accuracy of the network on the 1500 validation images: %d %%' % (\n",
        "    100 * correct / total))\n",
        "print('Confusion Matrix: ')\n",
        "print( '  true\\predicted  infected     normal')\n",
        "print( '     infected      ',m[0][0],'    ', m[0][1])\n",
        "print( '     normal        ',m[1][0],'     ', m[1][1])"
      ],
      "execution_count": 0,
      "outputs": [
        {
          "output_type": "stream",
          "text": [
            "Accuracy of the network on the 1500 validation images: 92 %\n",
            "Confusion Matrix: \n",
            "  true\\predicted  infected     normal\n",
            "     infected       544.0      71.0\n",
            "     normal         37.0       848.0\n"
          ],
          "name": "stdout"
        }
      ]
    },
    {
      "cell_type": "markdown",
      "metadata": {
        "id": "XM_yb6FStTWi",
        "colab_type": "text"
      },
      "source": [
        "# Testing accuracy, Confusion matrix and F1 score"
      ]
    },
    {
      "cell_type": "code",
      "metadata": {
        "id": "0P4BQAJWtV_E",
        "colab_type": "code",
        "outputId": "bf87b225-2a03-448a-f3fd-0093b3e6c36c",
        "colab": {
          "base_uri": "https://localhost:8080/",
          "height": 107
        }
      },
      "source": [
        "correct = 0\n",
        "total = 0\n",
        "m = np.zeros((2,2))\n",
        "with torch.no_grad():\n",
        "    for data in testloader:\n",
        "        images, labels = data\n",
        "        images, labels = images.to(device), labels.to(device)\n",
        "        outputs = vgg16(images)\n",
        "        _, predicted = torch.max(outputs.data, 1)\n",
        "        total += labels.size(0)\n",
        "        correct += (predicted == labels).sum().item()\n",
        "        m += confusion_matrix (labels.to('cpu'), predicted.to('cpu'))\n",
        "\n",
        "print('Accuracy of the network on the 1500 test images: %d %%' % (\n",
        "    100 * correct / total))\n",
        "print('Confusion Matrix: ')\n",
        "print( '  true\\predicted  infected    normal')\n",
        "print( '     infected      ',m[0][0],'       ', m[0][1])\n",
        "print( '     normal        ',m[1][0],'       ', m[1][1])"
      ],
      "execution_count": 0,
      "outputs": [
        {
          "output_type": "stream",
          "text": [
            "Accuracy of the network on the 1500 test images: 97 %\n",
            "Confusion Matrix: \n",
            "  true\\predicted  infected    normal\n",
            "     infected       584.0         31.0\n",
            "     normal         10.0         875.0\n"
          ],
          "name": "stdout"
        }
      ]
    },
    {
      "cell_type": "code",
      "metadata": {
        "id": "ljUmoIl9tZtF",
        "colab_type": "code",
        "outputId": "7c4e44db-34d2-4f03-a259-dc0e3faebfc3",
        "colab": {
          "base_uri": "https://localhost:8080/",
          "height": 71
        }
      },
      "source": [
        "precision = m[0][0] / (m[0][0] + m[1][0])\n",
        "recall = m[0][0] / (m[0][0] + m[0][1])\n",
        "F1 = 2 * precision * recall / (precision + recall)\n",
        "print('Precision: {:.3f}'.format(precision) )\n",
        "print('Recall:    {:.3f}'.format(recall))\n",
        "print('F1 score:  {:.3f}'.format(F1))"
      ],
      "execution_count": 0,
      "outputs": [
        {
          "output_type": "stream",
          "text": [
            "Precision: 0.983\n",
            "Recall:    0.950\n",
            "F1 score:  0.966\n"
          ],
          "name": "stdout"
        }
      ]
    },
    {
      "cell_type": "markdown",
      "metadata": {
        "id": "22SaN-fYthOF",
        "colab_type": "text"
      },
      "source": [
        "# Load pre-trained ResNet18 model and replace the FC layers"
      ]
    },
    {
      "cell_type": "code",
      "metadata": {
        "id": "FWafiGzctn10",
        "colab_type": "code",
        "outputId": "31fee745-6923-4b21-bfab-5818e5272462",
        "colab": {
          "base_uri": "https://localhost:8080/",
          "height": 1000,
          "referenced_widgets": [
            "926bc8eb1cce4b8fa7912d8d599825b8",
            "03322d3f2029408d93028ef7eafb5228",
            "a4945ebfa86040119671904f4df66584",
            "70f1399d6ce44ce09b2640d113f14b11",
            "b5012c1c5e4a45eeb9064175b7c3947e",
            "e6aeb08ede694ccc8e44f08c5dca5ba5",
            "b67f6d603afd457f85ab64e5e33b1b6b",
            "791ab8df2a1b4cff84ef1638f2d192c5"
          ]
        }
      },
      "source": [
        "# Load the pretrained model from pytorch\n",
        "resnet18 = models.resnet18(pretrained=True)\n",
        "\n",
        "num_features = resnet18.fc.in_features\n",
        "my_fc = nn.Sequential(\n",
        "            nn.Linear(num_features, 220), # roll_no = 12, neurons = 120 + 100\n",
        "            nn.ReLU(True),\n",
        "            nn.Linear(220, 2)\n",
        "        )\n",
        "resnet18.fc = my_fc\n",
        "print(resnet18)"
      ],
      "execution_count": 0,
      "outputs": [
        {
          "output_type": "stream",
          "text": [
            "Downloading: \"https://download.pytorch.org/models/resnet18-5c106cde.pth\" to /root/.cache/torch/checkpoints/resnet18-5c106cde.pth\n"
          ],
          "name": "stderr"
        },
        {
          "output_type": "display_data",
          "data": {
            "application/vnd.jupyter.widget-view+json": {
              "model_id": "926bc8eb1cce4b8fa7912d8d599825b8",
              "version_minor": 0,
              "version_major": 2
            },
            "text/plain": [
              "HBox(children=(IntProgress(value=0, max=46827520), HTML(value='')))"
            ]
          },
          "metadata": {
            "tags": []
          }
        },
        {
          "output_type": "stream",
          "text": [
            "\n",
            "ResNet(\n",
            "  (conv1): Conv2d(3, 64, kernel_size=(7, 7), stride=(2, 2), padding=(3, 3), bias=False)\n",
            "  (bn1): BatchNorm2d(64, eps=1e-05, momentum=0.1, affine=True, track_running_stats=True)\n",
            "  (relu): ReLU(inplace=True)\n",
            "  (maxpool): MaxPool2d(kernel_size=3, stride=2, padding=1, dilation=1, ceil_mode=False)\n",
            "  (layer1): Sequential(\n",
            "    (0): BasicBlock(\n",
            "      (conv1): Conv2d(64, 64, kernel_size=(3, 3), stride=(1, 1), padding=(1, 1), bias=False)\n",
            "      (bn1): BatchNorm2d(64, eps=1e-05, momentum=0.1, affine=True, track_running_stats=True)\n",
            "      (relu): ReLU(inplace=True)\n",
            "      (conv2): Conv2d(64, 64, kernel_size=(3, 3), stride=(1, 1), padding=(1, 1), bias=False)\n",
            "      (bn2): BatchNorm2d(64, eps=1e-05, momentum=0.1, affine=True, track_running_stats=True)\n",
            "    )\n",
            "    (1): BasicBlock(\n",
            "      (conv1): Conv2d(64, 64, kernel_size=(3, 3), stride=(1, 1), padding=(1, 1), bias=False)\n",
            "      (bn1): BatchNorm2d(64, eps=1e-05, momentum=0.1, affine=True, track_running_stats=True)\n",
            "      (relu): ReLU(inplace=True)\n",
            "      (conv2): Conv2d(64, 64, kernel_size=(3, 3), stride=(1, 1), padding=(1, 1), bias=False)\n",
            "      (bn2): BatchNorm2d(64, eps=1e-05, momentum=0.1, affine=True, track_running_stats=True)\n",
            "    )\n",
            "  )\n",
            "  (layer2): Sequential(\n",
            "    (0): BasicBlock(\n",
            "      (conv1): Conv2d(64, 128, kernel_size=(3, 3), stride=(2, 2), padding=(1, 1), bias=False)\n",
            "      (bn1): BatchNorm2d(128, eps=1e-05, momentum=0.1, affine=True, track_running_stats=True)\n",
            "      (relu): ReLU(inplace=True)\n",
            "      (conv2): Conv2d(128, 128, kernel_size=(3, 3), stride=(1, 1), padding=(1, 1), bias=False)\n",
            "      (bn2): BatchNorm2d(128, eps=1e-05, momentum=0.1, affine=True, track_running_stats=True)\n",
            "      (downsample): Sequential(\n",
            "        (0): Conv2d(64, 128, kernel_size=(1, 1), stride=(2, 2), bias=False)\n",
            "        (1): BatchNorm2d(128, eps=1e-05, momentum=0.1, affine=True, track_running_stats=True)\n",
            "      )\n",
            "    )\n",
            "    (1): BasicBlock(\n",
            "      (conv1): Conv2d(128, 128, kernel_size=(3, 3), stride=(1, 1), padding=(1, 1), bias=False)\n",
            "      (bn1): BatchNorm2d(128, eps=1e-05, momentum=0.1, affine=True, track_running_stats=True)\n",
            "      (relu): ReLU(inplace=True)\n",
            "      (conv2): Conv2d(128, 128, kernel_size=(3, 3), stride=(1, 1), padding=(1, 1), bias=False)\n",
            "      (bn2): BatchNorm2d(128, eps=1e-05, momentum=0.1, affine=True, track_running_stats=True)\n",
            "    )\n",
            "  )\n",
            "  (layer3): Sequential(\n",
            "    (0): BasicBlock(\n",
            "      (conv1): Conv2d(128, 256, kernel_size=(3, 3), stride=(2, 2), padding=(1, 1), bias=False)\n",
            "      (bn1): BatchNorm2d(256, eps=1e-05, momentum=0.1, affine=True, track_running_stats=True)\n",
            "      (relu): ReLU(inplace=True)\n",
            "      (conv2): Conv2d(256, 256, kernel_size=(3, 3), stride=(1, 1), padding=(1, 1), bias=False)\n",
            "      (bn2): BatchNorm2d(256, eps=1e-05, momentum=0.1, affine=True, track_running_stats=True)\n",
            "      (downsample): Sequential(\n",
            "        (0): Conv2d(128, 256, kernel_size=(1, 1), stride=(2, 2), bias=False)\n",
            "        (1): BatchNorm2d(256, eps=1e-05, momentum=0.1, affine=True, track_running_stats=True)\n",
            "      )\n",
            "    )\n",
            "    (1): BasicBlock(\n",
            "      (conv1): Conv2d(256, 256, kernel_size=(3, 3), stride=(1, 1), padding=(1, 1), bias=False)\n",
            "      (bn1): BatchNorm2d(256, eps=1e-05, momentum=0.1, affine=True, track_running_stats=True)\n",
            "      (relu): ReLU(inplace=True)\n",
            "      (conv2): Conv2d(256, 256, kernel_size=(3, 3), stride=(1, 1), padding=(1, 1), bias=False)\n",
            "      (bn2): BatchNorm2d(256, eps=1e-05, momentum=0.1, affine=True, track_running_stats=True)\n",
            "    )\n",
            "  )\n",
            "  (layer4): Sequential(\n",
            "    (0): BasicBlock(\n",
            "      (conv1): Conv2d(256, 512, kernel_size=(3, 3), stride=(2, 2), padding=(1, 1), bias=False)\n",
            "      (bn1): BatchNorm2d(512, eps=1e-05, momentum=0.1, affine=True, track_running_stats=True)\n",
            "      (relu): ReLU(inplace=True)\n",
            "      (conv2): Conv2d(512, 512, kernel_size=(3, 3), stride=(1, 1), padding=(1, 1), bias=False)\n",
            "      (bn2): BatchNorm2d(512, eps=1e-05, momentum=0.1, affine=True, track_running_stats=True)\n",
            "      (downsample): Sequential(\n",
            "        (0): Conv2d(256, 512, kernel_size=(1, 1), stride=(2, 2), bias=False)\n",
            "        (1): BatchNorm2d(512, eps=1e-05, momentum=0.1, affine=True, track_running_stats=True)\n",
            "      )\n",
            "    )\n",
            "    (1): BasicBlock(\n",
            "      (conv1): Conv2d(512, 512, kernel_size=(3, 3), stride=(1, 1), padding=(1, 1), bias=False)\n",
            "      (bn1): BatchNorm2d(512, eps=1e-05, momentum=0.1, affine=True, track_running_stats=True)\n",
            "      (relu): ReLU(inplace=True)\n",
            "      (conv2): Conv2d(512, 512, kernel_size=(3, 3), stride=(1, 1), padding=(1, 1), bias=False)\n",
            "      (bn2): BatchNorm2d(512, eps=1e-05, momentum=0.1, affine=True, track_running_stats=True)\n",
            "    )\n",
            "  )\n",
            "  (avgpool): AdaptiveAvgPool2d(output_size=(1, 1))\n",
            "  (fc): Sequential(\n",
            "    (0): Linear(in_features=512, out_features=220, bias=True)\n",
            "    (1): ReLU(inplace=True)\n",
            "    (2): Linear(in_features=220, out_features=2, bias=True)\n",
            "  )\n",
            ")\n"
          ],
          "name": "stdout"
        }
      ]
    },
    {
      "cell_type": "markdown",
      "metadata": {
        "id": "ILKGwIOStunW",
        "colab_type": "text"
      },
      "source": [
        "# Train the ResNet18 model on our dataset (No layers are frozen)"
      ]
    },
    {
      "cell_type": "code",
      "metadata": {
        "id": "fVfw-fphtxmB",
        "colab_type": "code",
        "colab": {}
      },
      "source": [
        "Epochs = 10\n",
        "criterion = nn.CrossEntropyLoss()\n",
        "optimizer = optim.SGD(resnet18.parameters(), lr=0.001, momentum=0.9)"
      ],
      "execution_count": 0,
      "outputs": []
    },
    {
      "cell_type": "code",
      "metadata": {
        "id": "ivvlbRndxHWG",
        "colab_type": "code",
        "outputId": "19404bf2-6869-42dd-f1d0-f9f42e6c9950",
        "colab": {
          "base_uri": "https://localhost:8080/",
          "height": 215
        }
      },
      "source": [
        "from tqdm import tqdm\n",
        "\n",
        "device = torch.device(\"cuda:0\" if torch.cuda.is_available() else \"cpu\")\n",
        "resnet18.to(device)\n",
        "\n",
        "resnet18.train()\n",
        "\n",
        "val_loss = list()\n",
        "val_acc = list()\n",
        "train_loss = list()\n",
        "train_acc = list()\n",
        "\n",
        "for epoch in range(Epochs):  # loop over the dataset multiple times\n",
        "\n",
        "    running_loss = 0.0\n",
        "    correct = 0\n",
        "    total = 0\n",
        "    pbar = tqdm(enumerate(trainloader))\n",
        "    for i, data in pbar:\n",
        "        # get the inputs\n",
        "        inputs, labels = data\n",
        "        inputs, labels = inputs.to(device), labels.to(device)\n",
        "\n",
        "        # zero the parameter gradients\n",
        "        optimizer.zero_grad()\n",
        "\n",
        "        # forward + backward + optimize\n",
        "        outputs = resnet18(inputs)               #----> forward pass\n",
        "        loss = criterion(outputs, labels)   #----> compute loss\n",
        "        loss.backward()                     #----> backward pass\n",
        "        optimizer.step()                    #----> weights update\n",
        "\n",
        "        #compute training accuracy\n",
        "        _, predicted = torch.max(outputs.data, 1)\n",
        "        total += labels.size(0)\n",
        "        correct += (predicted == labels).sum().item()\n",
        "\n",
        "        # print statistics\n",
        "        running_loss += loss.item()\n",
        "        \n",
        "        pbar.set_description(\n",
        "            'Train Epoch: {} [{}/{} ({:.0f}%)]\\tLoss: {:.6f} Acc: {:.3f}'.format(\n",
        "                epoch, i * len(inputs), len(trainloader.dataset),\n",
        "                100. * i / len(trainloader),\n",
        "                loss.item(), 100 * correct / total))\n",
        "    \n",
        "    train_loss.append(running_loss)\n",
        "    train_acc.append(100 * correct / total)\n",
        "    \n",
        "    correct = 0\n",
        "    total = 0\n",
        "    running_loss = 0\n",
        "    with torch.no_grad():\n",
        "        for data in valloader:\n",
        "            images, labels = data\n",
        "            images, labels = images.to(device), labels.to(device)\n",
        "            outputs = resnet18(images)\n",
        "            loss = criterion(outputs, labels)\n",
        "            _, predicted = torch.max(outputs.data, 1)\n",
        "            total += labels.size(0)\n",
        "            correct += (predicted == labels).sum().item()\n",
        "            running_loss += loss.item()\n",
        "    val_loss.append(running_loss)\n",
        "    val_acc.append(100 * correct / total)\n",
        "\n",
        "print('Finished Training')\n",
        "torch.save(resnet18.state_dict(), F'/content/drive/My Drive/Colab Notebooks/Assignment 5/resnet18_entire.pth')"
      ],
      "execution_count": 0,
      "outputs": [
        {
          "output_type": "stream",
          "text": [
            "Train Epoch: 0 [11968/12000 (100%)]\tLoss: 0.315197 Acc: 87.733: : 375it [05:49,  1.07it/s]\n",
            "Train Epoch: 1 [11968/12000 (100%)]\tLoss: 0.124405 Acc: 91.825: : 375it [05:40,  1.10it/s]\n",
            "Train Epoch: 2 [11968/12000 (100%)]\tLoss: 0.158920 Acc: 92.417: : 375it [05:49,  1.07it/s]\n",
            "Train Epoch: 3 [11968/12000 (100%)]\tLoss: 0.105553 Acc: 93.033: : 375it [05:45,  1.08it/s]\n",
            "Train Epoch: 4 [11968/12000 (100%)]\tLoss: 0.139084 Acc: 93.925: : 375it [05:40,  1.10it/s]\n",
            "Train Epoch: 5 [11968/12000 (100%)]\tLoss: 0.090538 Acc: 94.333: : 375it [05:38,  1.11it/s]\n",
            "Train Epoch: 6 [11968/12000 (100%)]\tLoss: 0.064761 Acc: 94.325: : 375it [05:43,  1.09it/s]\n",
            "Train Epoch: 7 [11968/12000 (100%)]\tLoss: 0.156568 Acc: 94.700: : 375it [05:40,  1.10it/s]\n",
            "Train Epoch: 8 [11968/12000 (100%)]\tLoss: 0.120472 Acc: 94.758: : 375it [05:39,  1.11it/s]\n",
            "Train Epoch: 9 [11968/12000 (100%)]\tLoss: 0.070045 Acc: 95.075: : 375it [05:39,  1.10it/s]\n"
          ],
          "name": "stderr"
        },
        {
          "output_type": "stream",
          "text": [
            "Finished Training\n"
          ],
          "name": "stdout"
        }
      ]
    },
    {
      "cell_type": "markdown",
      "metadata": {
        "id": "uZpiihktxQrF",
        "colab_type": "text"
      },
      "source": [
        "# Plot Accuracy and Loss curves"
      ]
    },
    {
      "cell_type": "code",
      "metadata": {
        "id": "Bj03rEKExRWA",
        "colab_type": "code",
        "outputId": "e231b1e1-79cf-4ca3-83f3-57021b3228bb",
        "colab": {
          "base_uri": "https://localhost:8080/",
          "height": 545
        }
      },
      "source": [
        "#accuracy curve\n",
        "plt.subplots()\n",
        "plt.plot(train_acc, 'b', label = 'training accuracy')\n",
        "plt.plot(val_acc, 'r', label = 'Validation accuracy')\n",
        "plt.title(\"Accuracy Curve\")\n",
        "plt.legend()\n",
        "plt.show()\n",
        "\n",
        "#loss curve\n",
        "plt.subplots()\n",
        "plt.plot(np.array(train_loss)/375, 'b', label = 'training loss')\n",
        "plt.plot(np.array(val_loss)/47, 'r', label = 'Validation loss')\n",
        "plt.title(\"Loss Curve\")\n",
        "plt.legend()\n",
        "plt.show()"
      ],
      "execution_count": 0,
      "outputs": [
        {
          "output_type": "display_data",
          "data": {
            "image/png": "[encoded data removed]",
            "text/plain": [
              "<Figure size 432x288 with 1 Axes>"
            ]
          },
          "metadata": {
            "tags": [],
            "needs_background": "light"
          }
        },
        {
          "output_type": "display_data",
          "data": {
            "image/png": "[encoded data removed]",
            "text/plain": [
              "<Figure size 432x288 with 1 Axes>"
            ]
          },
          "metadata": {
            "tags": [],
            "needs_background": "light"
          }
        }
      ]
    },
    {
      "cell_type": "markdown",
      "metadata": {
        "id": "Q6c7dbcyxU6d",
        "colab_type": "text"
      },
      "source": [
        "# Training Accuracy, Confusion matrix"
      ]
    },
    {
      "cell_type": "code",
      "metadata": {
        "id": "j7nnm7v5xYFW",
        "colab_type": "code",
        "outputId": "9896679b-6636-4597-af20-1495c3c3d199",
        "colab": {
          "base_uri": "https://localhost:8080/",
          "height": 107
        }
      },
      "source": [
        "correct = 0\n",
        "total = 0\n",
        "m = np.zeros((2,2))\n",
        "with torch.no_grad():\n",
        "    for data in trainloader:\n",
        "        images, labels = data\n",
        "        images, labels = images.to(device), labels.to(device)\n",
        "        outputs = resnet18(images)\n",
        "        _, predicted = torch.max(outputs.data, 1)\n",
        "        total += labels.size(0)\n",
        "        correct += (predicted == labels).sum().item()\n",
        "        m += confusion_matrix (labels.to('cpu'), predicted.to('cpu'))\n",
        "\n",
        "print('Accuracy of the network on the 12,000 training images: %d %%' % (\n",
        "    100 * correct / total))\n",
        "print('Confusion Matrix: ')\n",
        "print( '  true\\predicted  infected     normal')\n",
        "print( '     infected      ',m[0][0],'    ', m[0][1])\n",
        "print( '     normal        ',m[1][0],'     ', m[1][1])"
      ],
      "execution_count": 0,
      "outputs": [
        {
          "output_type": "stream",
          "text": [
            "Accuracy of the network on the 12,000 training images: 95 %\n",
            "Confusion Matrix: \n",
            "  true\\predicted  infected     normal\n",
            "     infected       4624.0      295.0\n",
            "     normal         236.0       6845.0\n"
          ],
          "name": "stdout"
        }
      ]
    },
    {
      "cell_type": "markdown",
      "metadata": {
        "id": "Sz2IEntFxbNN",
        "colab_type": "text"
      },
      "source": [
        "# Validation Accuracy, Confusion matrix"
      ]
    },
    {
      "cell_type": "code",
      "metadata": {
        "id": "EXj_Idn1xd4s",
        "colab_type": "code",
        "outputId": "c9822511-3945-40f5-a4f9-f575b7a2136d",
        "colab": {
          "base_uri": "https://localhost:8080/",
          "height": 107
        }
      },
      "source": [
        "correct = 0\n",
        "total = 0\n",
        "m = np.zeros((2,2))\n",
        "with torch.no_grad():\n",
        "    for data in valloader:\n",
        "        images, labels = data\n",
        "        images, labels = images.to(device), labels.to(device)\n",
        "        outputs = resnet18(images)\n",
        "        _, predicted = torch.max(outputs.data, 1)\n",
        "        total += labels.size(0)\n",
        "        correct += (predicted == labels).sum().item()\n",
        "        m += confusion_matrix (labels.to('cpu'), predicted.to('cpu'))\n",
        "\n",
        "print('Accuracy of the network on the 1500 validation images: %d %%' % (\n",
        "    100 * correct / total))\n",
        "print('Confusion Matrix: ')\n",
        "print( '  true\\predicted  infected    normal')\n",
        "print( '     infected      ',m[0][0],'    ', m[0][1])\n",
        "print( '     normal        ',m[1][0],'     ', m[1][1])"
      ],
      "execution_count": 0,
      "outputs": [
        {
          "output_type": "stream",
          "text": [
            "Accuracy of the network on the 1500 validation images: 92 %\n",
            "Confusion Matrix: \n",
            "  true\\predicted  infected    normal\n",
            "     infected       555.0      60.0\n",
            "     normal         53.0       832.0\n"
          ],
          "name": "stdout"
        }
      ]
    },
    {
      "cell_type": "markdown",
      "metadata": {
        "id": "Nfu3BVnLxgw4",
        "colab_type": "text"
      },
      "source": [
        "# Test Accuracy, Confusion matrix and F1 score"
      ]
    },
    {
      "cell_type": "code",
      "metadata": {
        "id": "trT6XIIJxjja",
        "colab_type": "code",
        "outputId": "b68c11fa-f1b5-48ec-d4f6-5f157170e2dc",
        "colab": {
          "base_uri": "https://localhost:8080/",
          "height": 107
        }
      },
      "source": [
        "correct = 0\n",
        "total = 0\n",
        "m = np.zeros((2,2))\n",
        "with torch.no_grad():\n",
        "    for data in testloader:\n",
        "        images, labels = data\n",
        "        images, labels = images.to(device), labels.to(device)\n",
        "        outputs = resnet18(images)\n",
        "        _, predicted = torch.max(outputs.data, 1)\n",
        "        total += labels.size(0)\n",
        "        correct += (predicted == labels).sum().item()\n",
        "        m += confusion_matrix (labels.to('cpu'), predicted.to('cpu'))\n",
        "\n",
        "print('Accuracy of the network on the 1500 test images: %d %%' % (\n",
        "    100 * correct / total))\n",
        "print('Confusion Matrix: ')\n",
        "print( '  true\\predicted  infected    normal')\n",
        "print( '     infected      ',m[0][0],'    ', m[0][1])\n",
        "print( '     normal        ',m[1][0],'     ', m[1][1])"
      ],
      "execution_count": 0,
      "outputs": [
        {
          "output_type": "stream",
          "text": [
            "Accuracy of the network on the 1500 test images: 96 %\n",
            "Confusion Matrix: \n",
            "  true\\predicted  infected    normal\n",
            "     infected       580.0      35.0\n",
            "     normal         13.0       872.0\n"
          ],
          "name": "stdout"
        }
      ]
    },
    {
      "cell_type": "code",
      "metadata": {
        "id": "hrppSGZhxm_G",
        "colab_type": "code",
        "outputId": "eb47d96d-0ece-4bcc-b0ef-294d5db36f1c",
        "colab": {
          "base_uri": "https://localhost:8080/",
          "height": 71
        }
      },
      "source": [
        "precision = m[0][0] / (m[0][0] + m[1][0])\n",
        "recall = m[0][0] / (m[0][0] + m[0][1])\n",
        "F1 = 2 * precision * recall / (precision + recall)\n",
        "print('Precision: {:.3f}'.format(precision) )\n",
        "print('Recall:    {:.3f}'.format(recall))\n",
        "print('F1 score:  {:.3f}'.format(F1))"
      ],
      "execution_count": 0,
      "outputs": [
        {
          "output_type": "stream",
          "text": [
            "Precision: 0.978\n",
            "Recall:    0.943\n",
            "F1 score:  0.960\n"
          ],
          "name": "stdout"
        }
      ]
    },
    {
      "cell_type": "code",
      "metadata": {
        "id": "MGIx7R4Jd04n",
        "colab_type": "code",
        "colab": {}
      },
      "source": [
        ""
      ],
      "execution_count": 0,
      "outputs": []
    }
  ]
}